{
  "nbformat": 4,
  "nbformat_minor": 0,
  "metadata": {
    "file_extension": ".py",
    "kernelspec": {
      "display_name": "dev",
      "language": "python",
      "name": "dev"
    },
    "language_info": {
      "codemirror_mode": {
        "name": "ipython",
        "version": 3
      },
      "file_extension": ".py",
      "mimetype": "text/x-python",
      "name": "python",
      "nbconvert_exporter": "python",
      "pygments_lexer": "ipython3",
      "version": "3.7.6"
    },
    "mimetype": "text/x-python",
    "name": "python",
    "npconvert_exporter": "python",
    "pygments_lexer": "ipython3",
    "version": 3,
    "colab": {
      "name": "regression_analysis.ipynb",
      "provenance": [],
      "collapsed_sections": [],
      "toc_visible": true,
      "include_colab_link": true
    }
  },
  "cells": [
    {
      "cell_type": "markdown",
      "metadata": {
        "id": "view-in-github",
        "colab_type": "text"
      },
      "source": [
        "<a href=\"https://colab.research.google.com/github/msvt37/Unit-10-A_Yen_For_Future_HW/blob/main/regression_analysis.ipynb\" target=\"_parent\"><img src=\"https://colab.research.google.com/assets/colab-badge.svg\" alt=\"Open In Colab\"/></a>"
      ]
    },
    {
      "cell_type": "code",
      "metadata": {
        "id": "8ZNrO4wSMgAO"
      },
      "source": [
        "import numpy as np\n",
        "import pandas as pd\n",
        "from pathlib import Path\n",
        "%matplotlib inline"
      ],
      "execution_count": 1,
      "outputs": []
    },
    {
      "cell_type": "code",
      "metadata": {
        "colab": {
          "base_uri": "https://localhost:8080/"
        },
        "id": "IsK82Zg0tZM4",
        "outputId": "e1fd14cf-cdce-4189-bbec-b3dac097cb9c"
      },
      "source": [
        "# Mount Google Drive for access to data files\n",
        "from google.colab import drive\n",
        "drive.mount('/content/drive')"
      ],
      "execution_count": 2,
      "outputs": [
        {
          "output_type": "stream",
          "text": [
            "Drive already mounted at /content/drive; to attempt to forcibly remount, call drive.mount(\"/content/drive\", force_remount=True).\n"
          ],
          "name": "stdout"
        }
      ]
    },
    {
      "cell_type": "markdown",
      "metadata": {
        "id": "3ujLNrtQMgAX"
      },
      "source": [
        "# Regression Analysis: Seasonal Effects with Sklearn Linear Regression\n",
        "In this notebook, you will build a SKLearn linear regression model to predict Yen futures (\"settle\") returns with *lagged* Yen futures returns. "
      ]
    },
    {
      "cell_type": "code",
      "metadata": {
        "colab": {
          "base_uri": "https://localhost:8080/",
          "height": 490
        },
        "id": "i-4NngruMgAY",
        "outputId": "39e38e22-1eb5-4ed2-be4d-ad974636db52"
      },
      "source": [
        "# Futures contract on the Yen-dollar exchange rate:\n",
        "# This is the continuous chain of the futures contracts that are 1 month to expiration\n",
        "yen_futures = pd.read_csv(Path(\"/content/drive/MyDrive/Colab Notebooks/yen.csv\"), index_col=\"Date\", infer_datetime_format=True, parse_dates=True)\n",
        "yen_futures.info()\n",
        "yen_futures.head()"
      ],
      "execution_count": 3,
      "outputs": [
        {
          "output_type": "stream",
          "text": [
            "<class 'pandas.core.frame.DataFrame'>\n",
            "DatetimeIndex: 10902 entries, 1976-08-02 to 2019-10-15\n",
            "Data columns (total 8 columns):\n",
            " #   Column                      Non-Null Count  Dtype  \n",
            "---  ------                      --------------  -----  \n",
            " 0   Open                        10902 non-null  float64\n",
            " 1   High                        10902 non-null  float64\n",
            " 2   Low                         10902 non-null  float64\n",
            " 3   Last                        10902 non-null  float64\n",
            " 4   Change                      1415 non-null   float64\n",
            " 5   Settle                      10902 non-null  float64\n",
            " 6   Volume                      10902 non-null  float64\n",
            " 7   Previous Day Open Interest  10902 non-null  float64\n",
            "dtypes: float64(8)\n",
            "memory usage: 766.5 KB\n"
          ],
          "name": "stdout"
        },
        {
          "output_type": "execute_result",
          "data": {
            "text/html": [
              "<div>\n",
              "<style scoped>\n",
              "    .dataframe tbody tr th:only-of-type {\n",
              "        vertical-align: middle;\n",
              "    }\n",
              "\n",
              "    .dataframe tbody tr th {\n",
              "        vertical-align: top;\n",
              "    }\n",
              "\n",
              "    .dataframe thead th {\n",
              "        text-align: right;\n",
              "    }\n",
              "</style>\n",
              "<table border=\"1\" class=\"dataframe\">\n",
              "  <thead>\n",
              "    <tr style=\"text-align: right;\">\n",
              "      <th></th>\n",
              "      <th>Open</th>\n",
              "      <th>High</th>\n",
              "      <th>Low</th>\n",
              "      <th>Last</th>\n",
              "      <th>Change</th>\n",
              "      <th>Settle</th>\n",
              "      <th>Volume</th>\n",
              "      <th>Previous Day Open Interest</th>\n",
              "    </tr>\n",
              "    <tr>\n",
              "      <th>Date</th>\n",
              "      <th></th>\n",
              "      <th></th>\n",
              "      <th></th>\n",
              "      <th></th>\n",
              "      <th></th>\n",
              "      <th></th>\n",
              "      <th></th>\n",
              "      <th></th>\n",
              "    </tr>\n",
              "  </thead>\n",
              "  <tbody>\n",
              "    <tr>\n",
              "      <th>1976-08-02</th>\n",
              "      <td>3398.0</td>\n",
              "      <td>3401.0</td>\n",
              "      <td>3398.0</td>\n",
              "      <td>3401.0</td>\n",
              "      <td>NaN</td>\n",
              "      <td>3401.0</td>\n",
              "      <td>2.0</td>\n",
              "      <td>1.0</td>\n",
              "    </tr>\n",
              "    <tr>\n",
              "      <th>1976-08-03</th>\n",
              "      <td>3401.0</td>\n",
              "      <td>3401.0</td>\n",
              "      <td>3401.0</td>\n",
              "      <td>3401.0</td>\n",
              "      <td>NaN</td>\n",
              "      <td>3401.0</td>\n",
              "      <td>0.0</td>\n",
              "      <td>1.0</td>\n",
              "    </tr>\n",
              "    <tr>\n",
              "      <th>1976-08-04</th>\n",
              "      <td>3401.0</td>\n",
              "      <td>3401.0</td>\n",
              "      <td>3401.0</td>\n",
              "      <td>3401.0</td>\n",
              "      <td>NaN</td>\n",
              "      <td>3401.0</td>\n",
              "      <td>0.0</td>\n",
              "      <td>1.0</td>\n",
              "    </tr>\n",
              "    <tr>\n",
              "      <th>1976-08-05</th>\n",
              "      <td>3401.0</td>\n",
              "      <td>3401.0</td>\n",
              "      <td>3401.0</td>\n",
              "      <td>3401.0</td>\n",
              "      <td>NaN</td>\n",
              "      <td>3401.0</td>\n",
              "      <td>0.0</td>\n",
              "      <td>1.0</td>\n",
              "    </tr>\n",
              "    <tr>\n",
              "      <th>1976-08-06</th>\n",
              "      <td>3401.0</td>\n",
              "      <td>3401.0</td>\n",
              "      <td>3401.0</td>\n",
              "      <td>3401.0</td>\n",
              "      <td>NaN</td>\n",
              "      <td>3401.0</td>\n",
              "      <td>0.0</td>\n",
              "      <td>1.0</td>\n",
              "    </tr>\n",
              "  </tbody>\n",
              "</table>\n",
              "</div>"
            ],
            "text/plain": [
              "              Open    High     Low  ...  Settle  Volume  Previous Day Open Interest\n",
              "Date                                ...                                            \n",
              "1976-08-02  3398.0  3401.0  3398.0  ...  3401.0     2.0                         1.0\n",
              "1976-08-03  3401.0  3401.0  3401.0  ...  3401.0     0.0                         1.0\n",
              "1976-08-04  3401.0  3401.0  3401.0  ...  3401.0     0.0                         1.0\n",
              "1976-08-05  3401.0  3401.0  3401.0  ...  3401.0     0.0                         1.0\n",
              "1976-08-06  3401.0  3401.0  3401.0  ...  3401.0     0.0                         1.0\n",
              "\n",
              "[5 rows x 8 columns]"
            ]
          },
          "metadata": {
            "tags": []
          },
          "execution_count": 3
        }
      ]
    },
    {
      "cell_type": "code",
      "metadata": {
        "colab": {
          "base_uri": "https://localhost:8080/"
        },
        "id": "KekiRXzPMgAZ",
        "outputId": "e57fede5-21ab-4823-ba56-ad572373494a"
      },
      "source": [
        "# Trim the dataset to begin on January 1st, 1990\n",
        "yen_futures = yen_futures.loc[\"1990-01-01\":, :]\n",
        "yen_futures.info()"
      ],
      "execution_count": 4,
      "outputs": [
        {
          "output_type": "stream",
          "text": [
            "<class 'pandas.core.frame.DataFrame'>\n",
            "DatetimeIndex: 7515 entries, 1990-01-02 to 2019-10-15\n",
            "Data columns (total 8 columns):\n",
            " #   Column                      Non-Null Count  Dtype  \n",
            "---  ------                      --------------  -----  \n",
            " 0   Open                        7515 non-null   float64\n",
            " 1   High                        7515 non-null   float64\n",
            " 2   Low                         7515 non-null   float64\n",
            " 3   Last                        7515 non-null   float64\n",
            " 4   Change                      1415 non-null   float64\n",
            " 5   Settle                      7515 non-null   float64\n",
            " 6   Volume                      7515 non-null   float64\n",
            " 7   Previous Day Open Interest  7515 non-null   float64\n",
            "dtypes: float64(8)\n",
            "memory usage: 528.4 KB\n"
          ],
          "name": "stdout"
        }
      ]
    },
    {
      "cell_type": "markdown",
      "metadata": {
        "id": "6brMW6gsMgAZ"
      },
      "source": [
        "# Data Preparation"
      ]
    },
    {
      "cell_type": "markdown",
      "metadata": {
        "id": "MLFK95vQMgAZ"
      },
      "source": [
        "### Returns"
      ]
    },
    {
      "cell_type": "code",
      "metadata": {
        "colab": {
          "base_uri": "https://localhost:8080/"
        },
        "id": "OHakp8yXMgAa",
        "outputId": "e463f833-cf2a-4730-b8e0-5c1dfdc99224"
      },
      "source": [
        "# Create a series using \"Settle\" price percentage returns, drop any nan\"s, and check the results:\n",
        "# (Make sure to multiply the pct_change() results by 100)\n",
        "# In this case, you may have to replace inf, -inf values with np.nan\"s\n",
        "yen_futures['Return'] = (yen_futures[[\"Settle\"]].pct_change() * 100)\n",
        "yen_futures = yen_futures.replace(-np.inf, np.nan)\n",
        "yen_futures.info()"
      ],
      "execution_count": 5,
      "outputs": [
        {
          "output_type": "stream",
          "text": [
            "<class 'pandas.core.frame.DataFrame'>\n",
            "DatetimeIndex: 7515 entries, 1990-01-02 to 2019-10-15\n",
            "Data columns (total 9 columns):\n",
            " #   Column                      Non-Null Count  Dtype  \n",
            "---  ------                      --------------  -----  \n",
            " 0   Open                        7515 non-null   float64\n",
            " 1   High                        7515 non-null   float64\n",
            " 2   Low                         7515 non-null   float64\n",
            " 3   Last                        7515 non-null   float64\n",
            " 4   Change                      1415 non-null   float64\n",
            " 5   Settle                      7515 non-null   float64\n",
            " 6   Volume                      7515 non-null   float64\n",
            " 7   Previous Day Open Interest  7515 non-null   float64\n",
            " 8   Return                      7514 non-null   float64\n",
            "dtypes: float64(9)\n",
            "memory usage: 587.1 KB\n"
          ],
          "name": "stdout"
        }
      ]
    },
    {
      "cell_type": "markdown",
      "metadata": {
        "id": "78trAI8aMgAa"
      },
      "source": [
        "### Lagged Returns "
      ]
    },
    {
      "cell_type": "code",
      "metadata": {
        "id": "hLG7U-FrMgAa"
      },
      "source": [
        "# Create a lagged return using the shift function\n",
        "yen_futures['Lagged_Return'] = yen_futures.Return.shift()\n",
        "#Dropping the \"Change\" column as it only has 1415 values and should not be critical for this model\n",
        "yen_futures.drop(['Change'], axis= 1, inplace=True)\n"
      ],
      "execution_count": null,
      "outputs": []
    },
    {
      "cell_type": "code",
      "metadata": {
        "colab": {
          "base_uri": "https://localhost:8080/"
        },
        "id": "_3SwMENGyoB7",
        "outputId": "d1a027b2-64fd-4ccb-abed-42483cac08e7"
      },
      "source": [
        "yen_futures.isnull().sum()"
      ],
      "execution_count": 18,
      "outputs": [
        {
          "output_type": "execute_result",
          "data": {
            "text/plain": [
              "Open                          0\n",
              "High                          0\n",
              "Low                           0\n",
              "Last                          0\n",
              "Settle                        0\n",
              "Volume                        0\n",
              "Previous Day Open Interest    0\n",
              "Return                        1\n",
              "Lagged_Return                 2\n",
              "dtype: int64"
            ]
          },
          "metadata": {
            "tags": []
          },
          "execution_count": 18
        }
      ]
    },
    {
      "cell_type": "code",
      "metadata": {
        "colab": {
          "base_uri": "https://localhost:8080/"
        },
        "id": "Qu3HU6pazPZw",
        "outputId": "f941b42e-80e6-4e1d-a8ae-1fd4fe162ff4"
      },
      "source": [
        "yen_futures.dropna(subset=['Return', 'Lagged_Return'], inplace=True)\n",
        "yen_futures.isnull().sum()"
      ],
      "execution_count": 21,
      "outputs": [
        {
          "output_type": "execute_result",
          "data": {
            "text/plain": [
              "Open                          0\n",
              "High                          0\n",
              "Low                           0\n",
              "Last                          0\n",
              "Settle                        0\n",
              "Volume                        0\n",
              "Previous Day Open Interest    0\n",
              "Return                        0\n",
              "Lagged_Return                 0\n",
              "dtype: int64"
            ]
          },
          "metadata": {
            "tags": []
          },
          "execution_count": 21
        }
      ]
    },
    {
      "cell_type": "markdown",
      "metadata": {
        "id": "YOxojpB-MgAb"
      },
      "source": [
        "### Train Test Split"
      ]
    },
    {
      "cell_type": "code",
      "metadata": {
        "id": "RLCQ6rLyMgAb"
      },
      "source": [
        "# Create a train/test split for the data using 2018-2019 for testing and the rest for training\n",
        "train = yen_futures[:'2017']\n",
        "test = yen_futures['2018':]"
      ],
      "execution_count": 22,
      "outputs": []
    },
    {
      "cell_type": "code",
      "metadata": {
        "id": "_vXUzrjCMgAb"
      },
      "source": [
        "# Create four dataframes:\n",
        "# X_train (training set using just the independent variables), X_test (test set of of just the independent variables)\n",
        "# Y_train (training set using just the \"y\" variable, i.e., \"Futures Return\"), Y_test (test set of just the \"y\" variable):\n",
        "# YOUR CODE HERE!\n",
        "X_train = train[[\"Lagged_Return\"]]\n",
        "X_test = test[[\"Lagged_Return\"]]\n",
        "y_train = train[\"Return\"]\n",
        "y_test = test[\"Return\"]"
      ],
      "execution_count": 23,
      "outputs": []
    },
    {
      "cell_type": "code",
      "metadata": {
        "colab": {
          "base_uri": "https://localhost:8080/",
          "height": 450
        },
        "id": "1Pfu6uIC3pfe",
        "outputId": "2d163aa8-1c52-4128-915e-fe6aac029638"
      },
      "source": [
        "X_train"
      ],
      "execution_count": 34,
      "outputs": [
        {
          "output_type": "execute_result",
          "data": {
            "text/html": [
              "<div>\n",
              "<style scoped>\n",
              "    .dataframe tbody tr th:only-of-type {\n",
              "        vertical-align: middle;\n",
              "    }\n",
              "\n",
              "    .dataframe tbody tr th {\n",
              "        vertical-align: top;\n",
              "    }\n",
              "\n",
              "    .dataframe thead th {\n",
              "        text-align: right;\n",
              "    }\n",
              "</style>\n",
              "<table border=\"1\" class=\"dataframe\">\n",
              "  <thead>\n",
              "    <tr style=\"text-align: right;\">\n",
              "      <th></th>\n",
              "      <th>Lagged_Return</th>\n",
              "    </tr>\n",
              "    <tr>\n",
              "      <th>Date</th>\n",
              "      <th></th>\n",
              "    </tr>\n",
              "  </thead>\n",
              "  <tbody>\n",
              "    <tr>\n",
              "      <th>1990-01-04</th>\n",
              "      <td>0.584197</td>\n",
              "    </tr>\n",
              "    <tr>\n",
              "      <th>1990-01-05</th>\n",
              "      <td>1.756933</td>\n",
              "    </tr>\n",
              "    <tr>\n",
              "      <th>1990-01-08</th>\n",
              "      <td>-0.827626</td>\n",
              "    </tr>\n",
              "    <tr>\n",
              "      <th>1990-01-09</th>\n",
              "      <td>0.129496</td>\n",
              "    </tr>\n",
              "    <tr>\n",
              "      <th>1990-01-10</th>\n",
              "      <td>-0.632275</td>\n",
              "    </tr>\n",
              "    <tr>\n",
              "      <th>...</th>\n",
              "      <td>...</td>\n",
              "    </tr>\n",
              "    <tr>\n",
              "      <th>2017-12-22</th>\n",
              "      <td>0.084621</td>\n",
              "    </tr>\n",
              "    <tr>\n",
              "      <th>2017-12-26</th>\n",
              "      <td>0.118370</td>\n",
              "    </tr>\n",
              "    <tr>\n",
              "      <th>2017-12-27</th>\n",
              "      <td>0.118230</td>\n",
              "    </tr>\n",
              "    <tr>\n",
              "      <th>2017-12-28</th>\n",
              "      <td>-0.151830</td>\n",
              "    </tr>\n",
              "    <tr>\n",
              "      <th>2017-12-29</th>\n",
              "      <td>0.180221</td>\n",
              "    </tr>\n",
              "  </tbody>\n",
              "</table>\n",
              "<p>7062 rows × 1 columns</p>\n",
              "</div>"
            ],
            "text/plain": [
              "            Lagged_Return\n",
              "Date                     \n",
              "1990-01-04       0.584197\n",
              "1990-01-05       1.756933\n",
              "1990-01-08      -0.827626\n",
              "1990-01-09       0.129496\n",
              "1990-01-10      -0.632275\n",
              "...                   ...\n",
              "2017-12-22       0.084621\n",
              "2017-12-26       0.118370\n",
              "2017-12-27       0.118230\n",
              "2017-12-28      -0.151830\n",
              "2017-12-29       0.180221\n",
              "\n",
              "[7062 rows x 1 columns]"
            ]
          },
          "metadata": {
            "tags": []
          },
          "execution_count": 34
        }
      ]
    },
    {
      "cell_type": "markdown",
      "metadata": {
        "id": "0w51MCK_MgAc"
      },
      "source": [
        "# Linear Regression Model"
      ]
    },
    {
      "cell_type": "code",
      "metadata": {
        "colab": {
          "base_uri": "https://localhost:8080/"
        },
        "id": "KREwjQWqMgAc",
        "outputId": "f1d1e866-8dc1-42b0-eb5f-2e49acc1471f"
      },
      "source": [
        "# Create a Linear Regression model and fit it to the training data\n",
        "from sklearn.linear_model import LinearRegression\n",
        "\n",
        "# Fit a SKLearn linear regression using just the training set (X_train, Y_train):\n",
        "model = LinearRegression()\n",
        "model.fit(X_train, y_train)"
      ],
      "execution_count": 24,
      "outputs": [
        {
          "output_type": "execute_result",
          "data": {
            "text/plain": [
              "LinearRegression(copy_X=True, fit_intercept=True, n_jobs=None, normalize=False)"
            ]
          },
          "metadata": {
            "tags": []
          },
          "execution_count": 24
        }
      ]
    },
    {
      "cell_type": "markdown",
      "metadata": {
        "id": "_C4sDQiLMgAc"
      },
      "source": [
        "# Make predictions using the Testing Data\n",
        "\n",
        "Note: We want to evaluate the model using data that it has never seen before, in this case: X_test."
      ]
    },
    {
      "cell_type": "code",
      "metadata": {
        "id": "0AKbSPh8MgAc"
      },
      "source": [
        "# Make a prediction of \"y\" values using just the test dataset\n",
        "predictions = model.predict(X_test)\n"
      ],
      "execution_count": 32,
      "outputs": []
    },
    {
      "cell_type": "code",
      "metadata": {
        "colab": {
          "base_uri": "https://localhost:8080/",
          "height": 235
        },
        "id": "3LjonOsgMgAd",
        "outputId": "afa685b5-d1d9-4ff8-af32-203e65a121da"
      },
      "source": [
        "# Assemble actual y data (Y_test) with predicted y data (from just above) into two columns in a dataframe:\n",
        "Results = y_test.to_frame()\n",
        "Results[\"Predicted Return\"] = predictions\n",
        "Results.head()"
      ],
      "execution_count": 33,
      "outputs": [
        {
          "output_type": "execute_result",
          "data": {
            "text/html": [
              "<div>\n",
              "<style scoped>\n",
              "    .dataframe tbody tr th:only-of-type {\n",
              "        vertical-align: middle;\n",
              "    }\n",
              "\n",
              "    .dataframe tbody tr th {\n",
              "        vertical-align: top;\n",
              "    }\n",
              "\n",
              "    .dataframe thead th {\n",
              "        text-align: right;\n",
              "    }\n",
              "</style>\n",
              "<table border=\"1\" class=\"dataframe\">\n",
              "  <thead>\n",
              "    <tr style=\"text-align: right;\">\n",
              "      <th></th>\n",
              "      <th>Return</th>\n",
              "      <th>Predicted Return</th>\n",
              "    </tr>\n",
              "    <tr>\n",
              "      <th>Date</th>\n",
              "      <th></th>\n",
              "      <th></th>\n",
              "    </tr>\n",
              "  </thead>\n",
              "  <tbody>\n",
              "    <tr>\n",
              "      <th>2018-01-02</th>\n",
              "      <td>0.297285</td>\n",
              "      <td>0.003815</td>\n",
              "    </tr>\n",
              "    <tr>\n",
              "      <th>2018-01-03</th>\n",
              "      <td>-0.240479</td>\n",
              "      <td>0.003046</td>\n",
              "    </tr>\n",
              "    <tr>\n",
              "      <th>2018-01-04</th>\n",
              "      <td>-0.213028</td>\n",
              "      <td>0.008759</td>\n",
              "    </tr>\n",
              "    <tr>\n",
              "      <th>2018-01-05</th>\n",
              "      <td>-0.353933</td>\n",
              "      <td>0.008467</td>\n",
              "    </tr>\n",
              "    <tr>\n",
              "      <th>2018-01-08</th>\n",
              "      <td>0.062017</td>\n",
              "      <td>0.009964</td>\n",
              "    </tr>\n",
              "  </tbody>\n",
              "</table>\n",
              "</div>"
            ],
            "text/plain": [
              "              Return  Predicted Return\n",
              "Date                                  \n",
              "2018-01-02  0.297285          0.003815\n",
              "2018-01-03 -0.240479          0.003046\n",
              "2018-01-04 -0.213028          0.008759\n",
              "2018-01-05 -0.353933          0.008467\n",
              "2018-01-08  0.062017          0.009964"
            ]
          },
          "metadata": {
            "tags": []
          },
          "execution_count": 33
        }
      ]
    },
    {
      "cell_type": "code",
      "metadata": {
        "colab": {
          "base_uri": "https://localhost:8080/",
          "height": 336
        },
        "id": "JDx_ri6IMgAd",
        "outputId": "2b4b54dd-5863-493f-983a-69b7067215f3"
      },
      "source": [
        "# Plot the first 20 predictions vs the true values\n",
        "Results[:20].plot(subplots=True)"
      ],
      "execution_count": 28,
      "outputs": [
        {
          "output_type": "execute_result",
          "data": {
            "text/plain": [
              "array([<matplotlib.axes._subplots.AxesSubplot object at 0x7ffa621de410>,\n",
              "       <matplotlib.axes._subplots.AxesSubplot object at 0x7ffa5fb56510>],\n",
              "      dtype=object)"
            ]
          },
          "metadata": {
            "tags": []
          },
          "execution_count": 28
        },
        {
          "output_type": "display_data",
          "data": {
            "image/png": "[encoded data removed]",
            "text/plain": [
              "<Figure size 432x288 with 2 Axes>"
            ]
          },
          "metadata": {
            "tags": [],
            "needs_background": "light"
          }
        }
      ]
    },
    {
      "cell_type": "markdown",
      "metadata": {
        "id": "X1V9EEyKMgAd"
      },
      "source": [
        "# Out-of-Sample Performance\n",
        "\n",
        "Evaluate the model using \"out-of-sample\" data (X_test and y_test)"
      ]
    },
    {
      "cell_type": "code",
      "metadata": {
        "colab": {
          "base_uri": "https://localhost:8080/"
        },
        "id": "XAABbAWeMgAd",
        "outputId": "2c9520f3-cd15-46fe-cbe9-d1cad96529bf"
      },
      "source": [
        "from sklearn.metrics import mean_squared_error\n",
        "# Calculate the mean_squared_error (MSE) on actual versus predicted test \"y\" \n",
        "mse = mean_squared_error(\n",
        "    Results[\"Return\"],\n",
        "    Results[\"Predicted Return\"]\n",
        ")\n",
        "\n",
        "# Using that mean-squared-error, calculate the root-mean-squared error (RMSE):\n",
        "rmse = np.sqrt(mse)\n",
        "print(f\"Out-of-Sample Root Mean Squared Error (RMSE): {rmse}\")"
      ],
      "execution_count": 29,
      "outputs": [
        {
          "output_type": "stream",
          "text": [
            "Out-of-Sample Root Mean Squared Error (RMSE): 0.4136504970669482\n"
          ],
          "name": "stdout"
        }
      ]
    },
    {
      "cell_type": "markdown",
      "metadata": {
        "id": "vU1k8BdxMgAe"
      },
      "source": [
        "# In-Sample Performance\n",
        "\n",
        "Evaluate the model using in-sample data (X_train and y_train)"
      ]
    },
    {
      "cell_type": "code",
      "metadata": {
        "colab": {
          "base_uri": "https://localhost:8080/"
        },
        "id": "76w_qlvYMgAe",
        "outputId": "5281294b-f320-4f3e-9b74-a377b688b7af"
      },
      "source": [
        "# Construct a dataframe using just the \"y\" training data:\n",
        "insample = y_train.to_frame()\n",
        "\n",
        "# Add a column of \"in-sample\" predictions to that dataframe:  \n",
        "insample[\"In-sample Predictions\"] = model.predict(X_train)\n",
        "\n",
        "# Calculate in-sample mean_squared_error (for comparison to out-of-sample)\n",
        "insample_mse = mean_squared_error(\n",
        "    insample[\"Return\"],\n",
        "    insample[\"In-sample Predictions\"]\n",
        ")\n",
        "\n",
        "# Calculate in-sample root mean_squared_error (for comparison to out-of-sample)\n",
        "insample_rmse = np.sqrt(insample_mse)\n",
        "print(f\"In-sample Root Mean Squared Error (RMSE): {insample_rmse}\")"
      ],
      "execution_count": 30,
      "outputs": [
        {
          "output_type": "stream",
          "text": [
            "In-sample Root Mean Squared Error (RMSE): 0.7059387714146014\n"
          ],
          "name": "stdout"
        }
      ]
    },
    {
      "cell_type": "markdown",
      "metadata": {
        "id": "Xm_7aQpHMgAe"
      },
      "source": [
        "# Conclusions"
      ]
    },
    {
      "cell_type": "markdown",
      "metadata": {
        "id": "ueCLOB5LMgAe"
      },
      "source": [
        "It appears based on the graph of the model predictions and the RMSE values of .413 and .705, that this is a poor model for predicting Yen futures, although out of band performance is better than in-band. The RMSE's indicate the values are not closely clustered around the line of best fit, i.e. the model's predicted values are way off.\n",
        "\n",
        "During my data analysis, I noticed the \"Change\" column had quite a few values missing.  I ran the model once with \"Change\" included, and once without, not seeing a noticeable difference between the two.  I opted for removing it from the final data set to preserve a larger number of rows of the \"Settle\" and \"Returns\" values.  \n"
      ]
    },
    {
      "cell_type": "code",
      "metadata": {
        "colab": {
          "base_uri": "https://localhost:8080/"
        },
        "id": "zZF53-7D6LPV",
        "outputId": "c15f7cc3-e7a4-408d-d0b0-423c8532abde"
      },
      "source": [
        "model.score(X_test, y_test)"
      ],
      "execution_count": 38,
      "outputs": [
        {
          "output_type": "execute_result",
          "data": {
            "text/plain": [
              "0.0010352412489498253"
            ]
          },
          "metadata": {
            "tags": []
          },
          "execution_count": 38
        }
      ]
    }
  ]
}